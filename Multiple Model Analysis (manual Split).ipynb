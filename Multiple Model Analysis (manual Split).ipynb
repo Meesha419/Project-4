{
 "cells": [
  {
   "cell_type": "code",
   "execution_count": 1,
   "metadata": {},
   "outputs": [],
   "source": [
    "# Import Required Depencies:\n",
    "\n",
    "%matplotlib inline\n",
    "from matplotlib import pyplot as plt\n",
    "from sklearn.datasets import make_regression\n",
    "import numpy as np\n",
    "import pandas as pd\n",
    "from sklearn.linear_model import LinearRegression, Ridge, Lasso, ElasticNet\n",
    "from sklearn.model_selection import train_test_split\n",
    "from sklearn.preprocessing import StandardScaler"
   ]
  },
  {
   "cell_type": "code",
   "execution_count": 2,
   "metadata": {
    "scrolled": true
   },
   "outputs": [
    {
     "data": {
      "text/html": [
       "<div>\n",
       "<style scoped>\n",
       "    .dataframe tbody tr th:only-of-type {\n",
       "        vertical-align: middle;\n",
       "    }\n",
       "\n",
       "    .dataframe tbody tr th {\n",
       "        vertical-align: top;\n",
       "    }\n",
       "\n",
       "    .dataframe thead th {\n",
       "        text-align: right;\n",
       "    }\n",
       "</style>\n",
       "<table border=\"1\" class=\"dataframe\">\n",
       "  <thead>\n",
       "    <tr style=\"text-align: right;\">\n",
       "      <th></th>\n",
       "      <th>Country</th>\n",
       "      <th>ISO 3166-1 alpha-3</th>\n",
       "      <th>Year</th>\n",
       "      <th>Total</th>\n",
       "      <th>Coal</th>\n",
       "      <th>Oil</th>\n",
       "      <th>Gas</th>\n",
       "      <th>Cement</th>\n",
       "      <th>Flaring</th>\n",
       "      <th>Per Capita</th>\n",
       "    </tr>\n",
       "  </thead>\n",
       "  <tbody>\n",
       "    <tr>\n",
       "      <th>0</th>\n",
       "      <td>Afghanistan</td>\n",
       "      <td>AFG</td>\n",
       "      <td>1970</td>\n",
       "      <td>1.670397</td>\n",
       "      <td>0.436974</td>\n",
       "      <td>0.671986</td>\n",
       "      <td>0.216651</td>\n",
       "      <td>0.047350</td>\n",
       "      <td>0.297436</td>\n",
       "      <td>0.155343</td>\n",
       "    </tr>\n",
       "    <tr>\n",
       "      <th>1</th>\n",
       "      <td>Afghanistan</td>\n",
       "      <td>AFG</td>\n",
       "      <td>1971</td>\n",
       "      <td>1.893554</td>\n",
       "      <td>0.359072</td>\n",
       "      <td>0.747456</td>\n",
       "      <td>0.439680</td>\n",
       "      <td>0.043234</td>\n",
       "      <td>0.304112</td>\n",
       "      <td>0.171893</td>\n",
       "    </tr>\n",
       "    <tr>\n",
       "      <th>2</th>\n",
       "      <td>Afghanistan</td>\n",
       "      <td>AFG</td>\n",
       "      <td>1972</td>\n",
       "      <td>1.530347</td>\n",
       "      <td>0.190528</td>\n",
       "      <td>0.626544</td>\n",
       "      <td>0.300448</td>\n",
       "      <td>0.046427</td>\n",
       "      <td>0.366400</td>\n",
       "      <td>0.135588</td>\n",
       "    </tr>\n",
       "    <tr>\n",
       "      <th>3</th>\n",
       "      <td>Afghanistan</td>\n",
       "      <td>AFG</td>\n",
       "      <td>1973</td>\n",
       "      <td>1.635454</td>\n",
       "      <td>0.310745</td>\n",
       "      <td>0.701918</td>\n",
       "      <td>0.332680</td>\n",
       "      <td>0.067106</td>\n",
       "      <td>0.223005</td>\n",
       "      <td>0.141288</td>\n",
       "    </tr>\n",
       "    <tr>\n",
       "      <th>4</th>\n",
       "      <td>Afghanistan</td>\n",
       "      <td>AFG</td>\n",
       "      <td>1974</td>\n",
       "      <td>1.913152</td>\n",
       "      <td>0.304695</td>\n",
       "      <td>0.770914</td>\n",
       "      <td>0.400141</td>\n",
       "      <td>0.070301</td>\n",
       "      <td>0.367102</td>\n",
       "      <td>0.161177</td>\n",
       "    </tr>\n",
       "    <tr>\n",
       "      <th>...</th>\n",
       "      <td>...</td>\n",
       "      <td>...</td>\n",
       "      <td>...</td>\n",
       "      <td>...</td>\n",
       "      <td>...</td>\n",
       "      <td>...</td>\n",
       "      <td>...</td>\n",
       "      <td>...</td>\n",
       "      <td>...</td>\n",
       "      <td>...</td>\n",
       "    </tr>\n",
       "    <tr>\n",
       "      <th>3153</th>\n",
       "      <td>Global</td>\n",
       "      <td>WLD</td>\n",
       "      <td>2017</td>\n",
       "      <td>36096.739276</td>\n",
       "      <td>14506.973805</td>\n",
       "      <td>12242.627935</td>\n",
       "      <td>7144.928128</td>\n",
       "      <td>1507.923185</td>\n",
       "      <td>391.992176</td>\n",
       "      <td>4.749682</td>\n",
       "    </tr>\n",
       "    <tr>\n",
       "      <th>3154</th>\n",
       "      <td>Global</td>\n",
       "      <td>WLD</td>\n",
       "      <td>2018</td>\n",
       "      <td>36826.506600</td>\n",
       "      <td>14746.830688</td>\n",
       "      <td>12266.016285</td>\n",
       "      <td>7529.846784</td>\n",
       "      <td>1569.218392</td>\n",
       "      <td>412.115746</td>\n",
       "      <td>4.792753</td>\n",
       "    </tr>\n",
       "    <tr>\n",
       "      <th>3155</th>\n",
       "      <td>Global</td>\n",
       "      <td>WLD</td>\n",
       "      <td>2019</td>\n",
       "      <td>37082.558969</td>\n",
       "      <td>14725.978025</td>\n",
       "      <td>12345.653374</td>\n",
       "      <td>7647.528220</td>\n",
       "      <td>1617.506786</td>\n",
       "      <td>439.253991</td>\n",
       "      <td>4.775633</td>\n",
       "    </tr>\n",
       "    <tr>\n",
       "      <th>3156</th>\n",
       "      <td>Global</td>\n",
       "      <td>WLD</td>\n",
       "      <td>2020</td>\n",
       "      <td>35264.085734</td>\n",
       "      <td>14174.564010</td>\n",
       "      <td>11191.808551</td>\n",
       "      <td>7556.290283</td>\n",
       "      <td>1637.537532</td>\n",
       "      <td>407.583673</td>\n",
       "      <td>4.497423</td>\n",
       "    </tr>\n",
       "    <tr>\n",
       "      <th>3157</th>\n",
       "      <td>Global</td>\n",
       "      <td>WLD</td>\n",
       "      <td>2021</td>\n",
       "      <td>37123.850352</td>\n",
       "      <td>14979.598083</td>\n",
       "      <td>11837.159116</td>\n",
       "      <td>7921.829472</td>\n",
       "      <td>1672.592372</td>\n",
       "      <td>416.525563</td>\n",
       "      <td>4.693699</td>\n",
       "    </tr>\n",
       "  </tbody>\n",
       "</table>\n",
       "<p>3158 rows × 10 columns</p>\n",
       "</div>"
      ],
      "text/plain": [
       "          Country ISO 3166-1 alpha-3  Year         Total          Coal  \\\n",
       "0     Afghanistan                AFG  1970      1.670397      0.436974   \n",
       "1     Afghanistan                AFG  1971      1.893554      0.359072   \n",
       "2     Afghanistan                AFG  1972      1.530347      0.190528   \n",
       "3     Afghanistan                AFG  1973      1.635454      0.310745   \n",
       "4     Afghanistan                AFG  1974      1.913152      0.304695   \n",
       "...           ...                ...   ...           ...           ...   \n",
       "3153       Global                WLD  2017  36096.739276  14506.973805   \n",
       "3154       Global                WLD  2018  36826.506600  14746.830688   \n",
       "3155       Global                WLD  2019  37082.558969  14725.978025   \n",
       "3156       Global                WLD  2020  35264.085734  14174.564010   \n",
       "3157       Global                WLD  2021  37123.850352  14979.598083   \n",
       "\n",
       "               Oil          Gas       Cement     Flaring  Per Capita  \n",
       "0         0.671986     0.216651     0.047350    0.297436    0.155343  \n",
       "1         0.747456     0.439680     0.043234    0.304112    0.171893  \n",
       "2         0.626544     0.300448     0.046427    0.366400    0.135588  \n",
       "3         0.701918     0.332680     0.067106    0.223005    0.141288  \n",
       "4         0.770914     0.400141     0.070301    0.367102    0.161177  \n",
       "...            ...          ...          ...         ...         ...  \n",
       "3153  12242.627935  7144.928128  1507.923185  391.992176    4.749682  \n",
       "3154  12266.016285  7529.846784  1569.218392  412.115746    4.792753  \n",
       "3155  12345.653374  7647.528220  1617.506786  439.253991    4.775633  \n",
       "3156  11191.808551  7556.290283  1637.537532  407.583673    4.497423  \n",
       "3157  11837.159116  7921.829472  1672.592372  416.525563    4.693699  \n",
       "\n",
       "[3158 rows x 10 columns]"
      ]
     },
     "execution_count": 2,
     "metadata": {},
     "output_type": "execute_result"
    }
   ],
   "source": [
    "# Read csv file into a pandas dataframe:\n",
    "\n",
    "df_clean = pd.read_csv('./Resources/cleaned_emissions_data.csv')\n",
    "df_clean"
   ]
  },
  {
   "cell_type": "code",
   "execution_count": 3,
   "metadata": {
    "scrolled": false
   },
   "outputs": [],
   "source": [
    "# Remove columns \"ISO 3166-1 alpha-3\" and \"Country\" as they have string values and are not necessary for the models:\n",
    "\n",
    "df_clean = df_clean.drop(['ISO 3166-1 alpha-3','Country'], axis=1)"
   ]
  },
  {
   "cell_type": "code",
   "execution_count": 4,
   "metadata": {
    "scrolled": true
   },
   "outputs": [
    {
     "data": {
      "text/html": [
       "<div>\n",
       "<style scoped>\n",
       "    .dataframe tbody tr th:only-of-type {\n",
       "        vertical-align: middle;\n",
       "    }\n",
       "\n",
       "    .dataframe tbody tr th {\n",
       "        vertical-align: top;\n",
       "    }\n",
       "\n",
       "    .dataframe thead th {\n",
       "        text-align: right;\n",
       "    }\n",
       "</style>\n",
       "<table border=\"1\" class=\"dataframe\">\n",
       "  <thead>\n",
       "    <tr style=\"text-align: right;\">\n",
       "      <th></th>\n",
       "      <th>Year</th>\n",
       "      <th>Total</th>\n",
       "      <th>Coal</th>\n",
       "      <th>Oil</th>\n",
       "      <th>Gas</th>\n",
       "      <th>Cement</th>\n",
       "      <th>Flaring</th>\n",
       "      <th>Per Capita</th>\n",
       "    </tr>\n",
       "  </thead>\n",
       "  <tbody>\n",
       "    <tr>\n",
       "      <th>0</th>\n",
       "      <td>1970</td>\n",
       "      <td>1.670397</td>\n",
       "      <td>0.436974</td>\n",
       "      <td>0.671986</td>\n",
       "      <td>0.216651</td>\n",
       "      <td>0.047350</td>\n",
       "      <td>0.297436</td>\n",
       "      <td>0.155343</td>\n",
       "    </tr>\n",
       "    <tr>\n",
       "      <th>1</th>\n",
       "      <td>1971</td>\n",
       "      <td>1.893554</td>\n",
       "      <td>0.359072</td>\n",
       "      <td>0.747456</td>\n",
       "      <td>0.439680</td>\n",
       "      <td>0.043234</td>\n",
       "      <td>0.304112</td>\n",
       "      <td>0.171893</td>\n",
       "    </tr>\n",
       "    <tr>\n",
       "      <th>2</th>\n",
       "      <td>1972</td>\n",
       "      <td>1.530347</td>\n",
       "      <td>0.190528</td>\n",
       "      <td>0.626544</td>\n",
       "      <td>0.300448</td>\n",
       "      <td>0.046427</td>\n",
       "      <td>0.366400</td>\n",
       "      <td>0.135588</td>\n",
       "    </tr>\n",
       "    <tr>\n",
       "      <th>3</th>\n",
       "      <td>1973</td>\n",
       "      <td>1.635454</td>\n",
       "      <td>0.310745</td>\n",
       "      <td>0.701918</td>\n",
       "      <td>0.332680</td>\n",
       "      <td>0.067106</td>\n",
       "      <td>0.223005</td>\n",
       "      <td>0.141288</td>\n",
       "    </tr>\n",
       "    <tr>\n",
       "      <th>4</th>\n",
       "      <td>1974</td>\n",
       "      <td>1.913152</td>\n",
       "      <td>0.304695</td>\n",
       "      <td>0.770914</td>\n",
       "      <td>0.400141</td>\n",
       "      <td>0.070301</td>\n",
       "      <td>0.367102</td>\n",
       "      <td>0.161177</td>\n",
       "    </tr>\n",
       "    <tr>\n",
       "      <th>...</th>\n",
       "      <td>...</td>\n",
       "      <td>...</td>\n",
       "      <td>...</td>\n",
       "      <td>...</td>\n",
       "      <td>...</td>\n",
       "      <td>...</td>\n",
       "      <td>...</td>\n",
       "      <td>...</td>\n",
       "    </tr>\n",
       "    <tr>\n",
       "      <th>3153</th>\n",
       "      <td>2017</td>\n",
       "      <td>36096.739276</td>\n",
       "      <td>14506.973805</td>\n",
       "      <td>12242.627935</td>\n",
       "      <td>7144.928128</td>\n",
       "      <td>1507.923185</td>\n",
       "      <td>391.992176</td>\n",
       "      <td>4.749682</td>\n",
       "    </tr>\n",
       "    <tr>\n",
       "      <th>3154</th>\n",
       "      <td>2018</td>\n",
       "      <td>36826.506600</td>\n",
       "      <td>14746.830688</td>\n",
       "      <td>12266.016285</td>\n",
       "      <td>7529.846784</td>\n",
       "      <td>1569.218392</td>\n",
       "      <td>412.115746</td>\n",
       "      <td>4.792753</td>\n",
       "    </tr>\n",
       "    <tr>\n",
       "      <th>3155</th>\n",
       "      <td>2019</td>\n",
       "      <td>37082.558969</td>\n",
       "      <td>14725.978025</td>\n",
       "      <td>12345.653374</td>\n",
       "      <td>7647.528220</td>\n",
       "      <td>1617.506786</td>\n",
       "      <td>439.253991</td>\n",
       "      <td>4.775633</td>\n",
       "    </tr>\n",
       "    <tr>\n",
       "      <th>3156</th>\n",
       "      <td>2020</td>\n",
       "      <td>35264.085734</td>\n",
       "      <td>14174.564010</td>\n",
       "      <td>11191.808551</td>\n",
       "      <td>7556.290283</td>\n",
       "      <td>1637.537532</td>\n",
       "      <td>407.583673</td>\n",
       "      <td>4.497423</td>\n",
       "    </tr>\n",
       "    <tr>\n",
       "      <th>3157</th>\n",
       "      <td>2021</td>\n",
       "      <td>37123.850352</td>\n",
       "      <td>14979.598083</td>\n",
       "      <td>11837.159116</td>\n",
       "      <td>7921.829472</td>\n",
       "      <td>1672.592372</td>\n",
       "      <td>416.525563</td>\n",
       "      <td>4.693699</td>\n",
       "    </tr>\n",
       "  </tbody>\n",
       "</table>\n",
       "<p>3158 rows × 8 columns</p>\n",
       "</div>"
      ],
      "text/plain": [
       "      Year         Total          Coal           Oil          Gas  \\\n",
       "0     1970      1.670397      0.436974      0.671986     0.216651   \n",
       "1     1971      1.893554      0.359072      0.747456     0.439680   \n",
       "2     1972      1.530347      0.190528      0.626544     0.300448   \n",
       "3     1973      1.635454      0.310745      0.701918     0.332680   \n",
       "4     1974      1.913152      0.304695      0.770914     0.400141   \n",
       "...    ...           ...           ...           ...          ...   \n",
       "3153  2017  36096.739276  14506.973805  12242.627935  7144.928128   \n",
       "3154  2018  36826.506600  14746.830688  12266.016285  7529.846784   \n",
       "3155  2019  37082.558969  14725.978025  12345.653374  7647.528220   \n",
       "3156  2020  35264.085734  14174.564010  11191.808551  7556.290283   \n",
       "3157  2021  37123.850352  14979.598083  11837.159116  7921.829472   \n",
       "\n",
       "           Cement     Flaring  Per Capita  \n",
       "0        0.047350    0.297436    0.155343  \n",
       "1        0.043234    0.304112    0.171893  \n",
       "2        0.046427    0.366400    0.135588  \n",
       "3        0.067106    0.223005    0.141288  \n",
       "4        0.070301    0.367102    0.161177  \n",
       "...           ...         ...         ...  \n",
       "3153  1507.923185  391.992176    4.749682  \n",
       "3154  1569.218392  412.115746    4.792753  \n",
       "3155  1617.506786  439.253991    4.775633  \n",
       "3156  1637.537532  407.583673    4.497423  \n",
       "3157  1672.592372  416.525563    4.693699  \n",
       "\n",
       "[3158 rows x 8 columns]"
      ]
     },
     "execution_count": 4,
     "metadata": {},
     "output_type": "execute_result"
    }
   ],
   "source": [
    "# View Dataframe after dropping columns:\n",
    "\n",
    "df_clean"
   ]
  },
  {
   "cell_type": "code",
   "execution_count": 5,
   "metadata": {},
   "outputs": [],
   "source": [
    "df_train = df_clean.loc[0:2210]\n",
    "df_test = df_clean.loc[2210:3158]"
   ]
  },
  {
   "cell_type": "code",
   "execution_count": 6,
   "metadata": {},
   "outputs": [],
   "source": [
    "# Create X and y variables that hold training and testing data required for the regression models:\n",
    "\n",
    "X_train = df_train.drop([\"Total\"], axis=1)\n",
    "y_train = df_train[\"Total\"]\n",
    "\n",
    "X_test = df_test.drop([\"Total\"], axis=1)\n",
    "y_test = df_test[\"Total\"]"
   ]
  },
  {
   "cell_type": "code",
   "execution_count": 7,
   "metadata": {},
   "outputs": [],
   "source": [
    "# Scale and transform training and testing data:\n",
    "\n",
    "scaler = StandardScaler().fit(X_train)\n",
    "X_train_scaled = scaler.transform(X_train)\n",
    "X_test_scaled = scaler.transform(X_test)"
   ]
  },
  {
   "cell_type": "code",
   "execution_count": 8,
   "metadata": {},
   "outputs": [
    {
     "name": "stdout",
     "output_type": "stream",
     "text": [
      "Model: Linear Regression\n",
      "Training Score: 0.9999816092424352\n",
      "\n",
      "Testing Score: 0.999994461424712\n",
      "\n"
     ]
    },
    {
     "data": {
      "image/png": "[encoded data removed]",
      "text/plain": [
       "<Figure size 432x288 with 1 Axes>"
      ]
     },
     "metadata": {
      "needs_background": "light"
     },
     "output_type": "display_data"
    }
   ],
   "source": [
    "# Running different regression models:\n",
    "\n",
    "# Linear Regression Model:\n",
    "\n",
    "reg = LinearRegression().fit(X_train_scaled, y_train)\n",
    "print('Model: Linear Regression')\n",
    "print(f'Training Score: {reg.score(X_train_scaled, y_train)}\\n')\n",
    "print(f'Testing Score: {reg.score(X_test_scaled, y_test)}\\n')\n",
    "plt.bar(np.arange(len(reg.coef_)), reg.coef_)\n",
    "plt.title(f'Linear Regression coefficient plot')\n",
    "plt.savefig(\"./Graphs/Linear Regression coefficient plot (Manual Split).png\")\n",
    "plt.show()    "
   ]
  },
  {
   "cell_type": "code",
   "execution_count": 9,
   "metadata": {
    "scrolled": true
   },
   "outputs": [
    {
     "name": "stdout",
     "output_type": "stream",
     "text": [
      "Model: LASSO\n",
      "Training Score: 0.999977795382918\n",
      "\n",
      "Testing Score: 0.9999895781109005\n",
      "\n"
     ]
    },
    {
     "data": {
      "image/png": "[encoded data removed]",
      "text/plain": [
       "<Figure size 432x288 with 1 Axes>"
      ]
     },
     "metadata": {
      "needs_background": "light"
     },
     "output_type": "display_data"
    }
   ],
   "source": [
    "# Lasso Regression:\n",
    "\n",
    "reg = Lasso(max_iter=2000).fit(X_train_scaled, y_train)\n",
    "print('Model: LASSO')\n",
    "print(f'Training Score: {reg.score(X_train_scaled, y_train)}\\n')\n",
    "print(f'Testing Score: {reg.score(X_test_scaled, y_test)}\\n')\n",
    "plt.bar(np.arange(len(reg.coef_)), reg.coef_)\n",
    "plt.title(f'LASSO coefficient plot')\n",
    "plt.savefig(\"./Graphs/LASSO coefficient plot (Manual Split).png\")\n",
    "plt.show()    "
   ]
  },
  {
   "cell_type": "code",
   "execution_count": 10,
   "metadata": {
    "scrolled": true
   },
   "outputs": [
    {
     "name": "stdout",
     "output_type": "stream",
     "text": [
      "Model: Ridge\n",
      "Training Score: 0.9999790708056348\n",
      "\n",
      "Testing Score: 0.999995234053777\n",
      "\n"
     ]
    },
    {
     "data": {
      "image/png": "[encoded data removed]",
      "text/plain": [
       "<Figure size 432x288 with 1 Axes>"
      ]
     },
     "metadata": {
      "needs_background": "light"
     },
     "output_type": "display_data"
    }
   ],
   "source": [
    "# Ridge Model\n",
    "\n",
    "reg = Ridge().fit(X_train_scaled, y_train)\n",
    "print('Model: Ridge')\n",
    "print(f'Training Score: {reg.score(X_train_scaled, y_train)}\\n')\n",
    "print(f'Testing Score: {reg.score(X_test_scaled, y_test)}\\n')\n",
    "plt.bar(np.arange(len(reg.coef_)), reg.coef_)\n",
    "plt.title(f'Ridge coefficient plot')\n",
    "plt.savefig(\"./Graphs/Ridge coefficient plot (Manual Split).png\")\n",
    "plt.show()    "
   ]
  },
  {
   "cell_type": "code",
   "execution_count": 11,
   "metadata": {},
   "outputs": [
    {
     "name": "stdout",
     "output_type": "stream",
     "text": [
      "Model: ElasticNet\n",
      "Training Score: 0.9717859703716005\n",
      "\n",
      "Testing Score: 0.9937084660300842\n",
      "\n"
     ]
    },
    {
     "data": {
      "image/png": "[encoded data removed]",
      "text/plain": [
       "<Figure size 432x288 with 1 Axes>"
      ]
     },
     "metadata": {
      "needs_background": "light"
     },
     "output_type": "display_data"
    }
   ],
   "source": [
    "# Elastic Net Model:\n",
    "\n",
    "reg = ElasticNet(max_iter=2000).fit(X_train_scaled, y_train)\n",
    "print('Model: ElasticNet')\n",
    "print(f'Training Score: {reg.score(X_train_scaled, y_train)}\\n')\n",
    "print(f'Testing Score: {reg.score(X_test_scaled, y_test)}\\n')\n",
    "plt.bar(np.arange(len(reg.coef_)), reg.coef_)\n",
    "plt.title(f'ElasticNet coefficient plot')\n",
    "plt.savefig(\"./Graphs/ElasticNet coefficient plot (Manual Split).png\")\n",
    "plt.show()    "
   ]
  },
  {
   "cell_type": "code",
   "execution_count": null,
   "metadata": {},
   "outputs": [],
   "source": []
  }
 ],
 "metadata": {
  "kernelspec": {
   "display_name": "Python 3 (ipykernel)",
   "language": "python",
   "name": "python3"
  },
  "language_info": {
   "codemirror_mode": {
    "name": "ipython",
    "version": 3
   },
   "file_extension": ".py",
   "mimetype": "text/x-python",
   "name": "python",
   "nbconvert_exporter": "python",
   "pygments_lexer": "ipython3",
   "version": "3.9.12"
  }
 },
 "nbformat": 4,
 "nbformat_minor": 4
}
