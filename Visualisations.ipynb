{
 "cells": [
  {
   "cell_type": "code",
   "execution_count": 1,
   "metadata": {},
   "outputs": [],
   "source": [
    "# Import dependencies and setup\n",
    "\n",
    "import pandas as pd\n",
    "import matplotlib.pyplot as plt\n",
    "import numpy as np\n",
    "from scipy import stats\n",
    "import scipy.stats as st\n",
    "from scipy.stats import linregress\n",
    "import datetime as dt\n",
    "from pathlib import Path\n"
   ]
  },
  {
   "cell_type": "code",
   "execution_count": 2,
   "metadata": {},
   "outputs": [
    {
     "data": {
      "text/html": [
       "<div>\n",
       "<style scoped>\n",
       "    .dataframe tbody tr th:only-of-type {\n",
       "        vertical-align: middle;\n",
       "    }\n",
       "\n",
       "    .dataframe tbody tr th {\n",
       "        vertical-align: top;\n",
       "    }\n",
       "\n",
       "    .dataframe thead th {\n",
       "        text-align: right;\n",
       "    }\n",
       "</style>\n",
       "<table border=\"1\" class=\"dataframe\">\n",
       "  <thead>\n",
       "    <tr style=\"text-align: right;\">\n",
       "      <th></th>\n",
       "      <th>Country</th>\n",
       "      <th>ISO 3166-1 alpha-3</th>\n",
       "      <th>Year</th>\n",
       "      <th>Total</th>\n",
       "      <th>Coal</th>\n",
       "      <th>Oil</th>\n",
       "      <th>Gas</th>\n",
       "      <th>Cement</th>\n",
       "      <th>Flaring</th>\n",
       "      <th>Other</th>\n",
       "      <th>Per Capita</th>\n",
       "    </tr>\n",
       "  </thead>\n",
       "  <tbody>\n",
       "    <tr>\n",
       "      <th>0</th>\n",
       "      <td>Afghanistan</td>\n",
       "      <td>AFG</td>\n",
       "      <td>1750</td>\n",
       "      <td>0.000000</td>\n",
       "      <td>NaN</td>\n",
       "      <td>NaN</td>\n",
       "      <td>NaN</td>\n",
       "      <td>NaN</td>\n",
       "      <td>NaN</td>\n",
       "      <td>NaN</td>\n",
       "      <td>NaN</td>\n",
       "    </tr>\n",
       "    <tr>\n",
       "      <th>1</th>\n",
       "      <td>Afghanistan</td>\n",
       "      <td>AFG</td>\n",
       "      <td>1751</td>\n",
       "      <td>0.000000</td>\n",
       "      <td>NaN</td>\n",
       "      <td>NaN</td>\n",
       "      <td>NaN</td>\n",
       "      <td>NaN</td>\n",
       "      <td>NaN</td>\n",
       "      <td>NaN</td>\n",
       "      <td>NaN</td>\n",
       "    </tr>\n",
       "    <tr>\n",
       "      <th>2</th>\n",
       "      <td>Afghanistan</td>\n",
       "      <td>AFG</td>\n",
       "      <td>1752</td>\n",
       "      <td>0.000000</td>\n",
       "      <td>NaN</td>\n",
       "      <td>NaN</td>\n",
       "      <td>NaN</td>\n",
       "      <td>NaN</td>\n",
       "      <td>NaN</td>\n",
       "      <td>NaN</td>\n",
       "      <td>NaN</td>\n",
       "    </tr>\n",
       "    <tr>\n",
       "      <th>3</th>\n",
       "      <td>Afghanistan</td>\n",
       "      <td>AFG</td>\n",
       "      <td>1753</td>\n",
       "      <td>0.000000</td>\n",
       "      <td>NaN</td>\n",
       "      <td>NaN</td>\n",
       "      <td>NaN</td>\n",
       "      <td>NaN</td>\n",
       "      <td>NaN</td>\n",
       "      <td>NaN</td>\n",
       "      <td>NaN</td>\n",
       "    </tr>\n",
       "    <tr>\n",
       "      <th>4</th>\n",
       "      <td>Afghanistan</td>\n",
       "      <td>AFG</td>\n",
       "      <td>1754</td>\n",
       "      <td>0.000000</td>\n",
       "      <td>NaN</td>\n",
       "      <td>NaN</td>\n",
       "      <td>NaN</td>\n",
       "      <td>NaN</td>\n",
       "      <td>NaN</td>\n",
       "      <td>NaN</td>\n",
       "      <td>NaN</td>\n",
       "    </tr>\n",
       "    <tr>\n",
       "      <th>...</th>\n",
       "      <td>...</td>\n",
       "      <td>...</td>\n",
       "      <td>...</td>\n",
       "      <td>...</td>\n",
       "      <td>...</td>\n",
       "      <td>...</td>\n",
       "      <td>...</td>\n",
       "      <td>...</td>\n",
       "      <td>...</td>\n",
       "      <td>...</td>\n",
       "      <td>...</td>\n",
       "    </tr>\n",
       "    <tr>\n",
       "      <th>63099</th>\n",
       "      <td>Global</td>\n",
       "      <td>WLD</td>\n",
       "      <td>2017</td>\n",
       "      <td>36096.739276</td>\n",
       "      <td>14506.973805</td>\n",
       "      <td>12242.627935</td>\n",
       "      <td>7144.928128</td>\n",
       "      <td>1507.923185</td>\n",
       "      <td>391.992176</td>\n",
       "      <td>302.294047</td>\n",
       "      <td>4.749682</td>\n",
       "    </tr>\n",
       "    <tr>\n",
       "      <th>63100</th>\n",
       "      <td>Global</td>\n",
       "      <td>WLD</td>\n",
       "      <td>2018</td>\n",
       "      <td>36826.506600</td>\n",
       "      <td>14746.830688</td>\n",
       "      <td>12266.016285</td>\n",
       "      <td>7529.846784</td>\n",
       "      <td>1569.218392</td>\n",
       "      <td>412.115746</td>\n",
       "      <td>302.478706</td>\n",
       "      <td>4.792753</td>\n",
       "    </tr>\n",
       "    <tr>\n",
       "      <th>63101</th>\n",
       "      <td>Global</td>\n",
       "      <td>WLD</td>\n",
       "      <td>2019</td>\n",
       "      <td>37082.558969</td>\n",
       "      <td>14725.978025</td>\n",
       "      <td>12345.653374</td>\n",
       "      <td>7647.528220</td>\n",
       "      <td>1617.506786</td>\n",
       "      <td>439.253991</td>\n",
       "      <td>306.638573</td>\n",
       "      <td>4.775633</td>\n",
       "    </tr>\n",
       "    <tr>\n",
       "      <th>63102</th>\n",
       "      <td>Global</td>\n",
       "      <td>WLD</td>\n",
       "      <td>2020</td>\n",
       "      <td>35264.085734</td>\n",
       "      <td>14174.564010</td>\n",
       "      <td>11191.808551</td>\n",
       "      <td>7556.290283</td>\n",
       "      <td>1637.537532</td>\n",
       "      <td>407.583673</td>\n",
       "      <td>296.301685</td>\n",
       "      <td>4.497423</td>\n",
       "    </tr>\n",
       "    <tr>\n",
       "      <th>63103</th>\n",
       "      <td>Global</td>\n",
       "      <td>WLD</td>\n",
       "      <td>2021</td>\n",
       "      <td>37123.850352</td>\n",
       "      <td>14979.598083</td>\n",
       "      <td>11837.159116</td>\n",
       "      <td>7921.829472</td>\n",
       "      <td>1672.592372</td>\n",
       "      <td>416.525563</td>\n",
       "      <td>296.145746</td>\n",
       "      <td>4.693699</td>\n",
       "    </tr>\n",
       "  </tbody>\n",
       "</table>\n",
       "<p>63104 rows × 11 columns</p>\n",
       "</div>"
      ],
      "text/plain": [
       "           Country ISO 3166-1 alpha-3  Year         Total          Coal  \\\n",
       "0      Afghanistan                AFG  1750      0.000000           NaN   \n",
       "1      Afghanistan                AFG  1751      0.000000           NaN   \n",
       "2      Afghanistan                AFG  1752      0.000000           NaN   \n",
       "3      Afghanistan                AFG  1753      0.000000           NaN   \n",
       "4      Afghanistan                AFG  1754      0.000000           NaN   \n",
       "...            ...                ...   ...           ...           ...   \n",
       "63099       Global                WLD  2017  36096.739276  14506.973805   \n",
       "63100       Global                WLD  2018  36826.506600  14746.830688   \n",
       "63101       Global                WLD  2019  37082.558969  14725.978025   \n",
       "63102       Global                WLD  2020  35264.085734  14174.564010   \n",
       "63103       Global                WLD  2021  37123.850352  14979.598083   \n",
       "\n",
       "                Oil          Gas       Cement     Flaring       Other  \\\n",
       "0               NaN          NaN          NaN         NaN         NaN   \n",
       "1               NaN          NaN          NaN         NaN         NaN   \n",
       "2               NaN          NaN          NaN         NaN         NaN   \n",
       "3               NaN          NaN          NaN         NaN         NaN   \n",
       "4               NaN          NaN          NaN         NaN         NaN   \n",
       "...             ...          ...          ...         ...         ...   \n",
       "63099  12242.627935  7144.928128  1507.923185  391.992176  302.294047   \n",
       "63100  12266.016285  7529.846784  1569.218392  412.115746  302.478706   \n",
       "63101  12345.653374  7647.528220  1617.506786  439.253991  306.638573   \n",
       "63102  11191.808551  7556.290283  1637.537532  407.583673  296.301685   \n",
       "63103  11837.159116  7921.829472  1672.592372  416.525563  296.145746   \n",
       "\n",
       "       Per Capita  \n",
       "0             NaN  \n",
       "1             NaN  \n",
       "2             NaN  \n",
       "3             NaN  \n",
       "4             NaN  \n",
       "...           ...  \n",
       "63099    4.749682  \n",
       "63100    4.792753  \n",
       "63101    4.775633  \n",
       "63102    4.497423  \n",
       "63103    4.693699  \n",
       "\n",
       "[63104 rows x 11 columns]"
      ]
     },
     "execution_count": 2,
     "metadata": {},
     "output_type": "execute_result"
    }
   ],
   "source": [
    "# Study data filepath\n",
    "data_path = \"Resources/GCB2022v27_MtCO2_flat.csv\"\n",
    "\n",
    "# Read the data\n",
    "emissions_data = pd.read_csv(data_path)\n",
    "emissions_data\n"
   ]
  },
  {
   "cell_type": "markdown",
   "metadata": {},
   "source": [
    "##  Data Cleanup"
   ]
  },
  {
   "cell_type": "code",
   "execution_count": 3,
   "metadata": {},
   "outputs": [
    {
     "data": {
      "text/plain": [
       "<matplotlib.axes._subplots.AxesSubplot at 0x1c0f0c61748>"
      ]
     },
     "execution_count": 3,
     "metadata": {},
     "output_type": "execute_result"
    },
    {
     "data": {
      "image/png": "[encoded data removed]",
      "text/plain": [
       "<Figure size 1800x720 with 2 Axes>"
      ]
     },
     "metadata": {
      "needs_background": "light"
     },
     "output_type": "display_data"
    }
   ],
   "source": [
    "# Check dataset for missing values using a visual matrix\n",
    "\n",
    "import missingno as msno\n",
    "msno.matrix(emissions_data)"
   ]
  },
  {
   "cell_type": "code",
   "execution_count": 4,
   "metadata": {},
   "outputs": [
    {
     "data": {
      "text/html": [
       "<div>\n",
       "<style scoped>\n",
       "    .dataframe tbody tr th:only-of-type {\n",
       "        vertical-align: middle;\n",
       "    }\n",
       "\n",
       "    .dataframe tbody tr th {\n",
       "        vertical-align: top;\n",
       "    }\n",
       "\n",
       "    .dataframe thead th {\n",
       "        text-align: right;\n",
       "    }\n",
       "</style>\n",
       "<table border=\"1\" class=\"dataframe\">\n",
       "  <thead>\n",
       "    <tr style=\"text-align: right;\">\n",
       "      <th></th>\n",
       "      <th>Country</th>\n",
       "      <th>ISO 3166-1 alpha-3</th>\n",
       "      <th>Year</th>\n",
       "      <th>Total</th>\n",
       "      <th>Coal</th>\n",
       "      <th>Oil</th>\n",
       "      <th>Gas</th>\n",
       "      <th>Cement</th>\n",
       "      <th>Flaring</th>\n",
       "      <th>Per Capita</th>\n",
       "    </tr>\n",
       "  </thead>\n",
       "  <tbody>\n",
       "    <tr>\n",
       "      <th>0</th>\n",
       "      <td>Afghanistan</td>\n",
       "      <td>AFG</td>\n",
       "      <td>1750</td>\n",
       "      <td>0.000000</td>\n",
       "      <td>NaN</td>\n",
       "      <td>NaN</td>\n",
       "      <td>NaN</td>\n",
       "      <td>NaN</td>\n",
       "      <td>NaN</td>\n",
       "      <td>NaN</td>\n",
       "    </tr>\n",
       "    <tr>\n",
       "      <th>1</th>\n",
       "      <td>Afghanistan</td>\n",
       "      <td>AFG</td>\n",
       "      <td>1751</td>\n",
       "      <td>0.000000</td>\n",
       "      <td>NaN</td>\n",
       "      <td>NaN</td>\n",
       "      <td>NaN</td>\n",
       "      <td>NaN</td>\n",
       "      <td>NaN</td>\n",
       "      <td>NaN</td>\n",
       "    </tr>\n",
       "    <tr>\n",
       "      <th>2</th>\n",
       "      <td>Afghanistan</td>\n",
       "      <td>AFG</td>\n",
       "      <td>1752</td>\n",
       "      <td>0.000000</td>\n",
       "      <td>NaN</td>\n",
       "      <td>NaN</td>\n",
       "      <td>NaN</td>\n",
       "      <td>NaN</td>\n",
       "      <td>NaN</td>\n",
       "      <td>NaN</td>\n",
       "    </tr>\n",
       "    <tr>\n",
       "      <th>3</th>\n",
       "      <td>Afghanistan</td>\n",
       "      <td>AFG</td>\n",
       "      <td>1753</td>\n",
       "      <td>0.000000</td>\n",
       "      <td>NaN</td>\n",
       "      <td>NaN</td>\n",
       "      <td>NaN</td>\n",
       "      <td>NaN</td>\n",
       "      <td>NaN</td>\n",
       "      <td>NaN</td>\n",
       "    </tr>\n",
       "    <tr>\n",
       "      <th>4</th>\n",
       "      <td>Afghanistan</td>\n",
       "      <td>AFG</td>\n",
       "      <td>1754</td>\n",
       "      <td>0.000000</td>\n",
       "      <td>NaN</td>\n",
       "      <td>NaN</td>\n",
       "      <td>NaN</td>\n",
       "      <td>NaN</td>\n",
       "      <td>NaN</td>\n",
       "      <td>NaN</td>\n",
       "    </tr>\n",
       "    <tr>\n",
       "      <th>...</th>\n",
       "      <td>...</td>\n",
       "      <td>...</td>\n",
       "      <td>...</td>\n",
       "      <td>...</td>\n",
       "      <td>...</td>\n",
       "      <td>...</td>\n",
       "      <td>...</td>\n",
       "      <td>...</td>\n",
       "      <td>...</td>\n",
       "      <td>...</td>\n",
       "    </tr>\n",
       "    <tr>\n",
       "      <th>63099</th>\n",
       "      <td>Global</td>\n",
       "      <td>WLD</td>\n",
       "      <td>2017</td>\n",
       "      <td>36096.739276</td>\n",
       "      <td>14506.973805</td>\n",
       "      <td>12242.627935</td>\n",
       "      <td>7144.928128</td>\n",
       "      <td>1507.923185</td>\n",
       "      <td>391.992176</td>\n",
       "      <td>4.749682</td>\n",
       "    </tr>\n",
       "    <tr>\n",
       "      <th>63100</th>\n",
       "      <td>Global</td>\n",
       "      <td>WLD</td>\n",
       "      <td>2018</td>\n",
       "      <td>36826.506600</td>\n",
       "      <td>14746.830688</td>\n",
       "      <td>12266.016285</td>\n",
       "      <td>7529.846784</td>\n",
       "      <td>1569.218392</td>\n",
       "      <td>412.115746</td>\n",
       "      <td>4.792753</td>\n",
       "    </tr>\n",
       "    <tr>\n",
       "      <th>63101</th>\n",
       "      <td>Global</td>\n",
       "      <td>WLD</td>\n",
       "      <td>2019</td>\n",
       "      <td>37082.558969</td>\n",
       "      <td>14725.978025</td>\n",
       "      <td>12345.653374</td>\n",
       "      <td>7647.528220</td>\n",
       "      <td>1617.506786</td>\n",
       "      <td>439.253991</td>\n",
       "      <td>4.775633</td>\n",
       "    </tr>\n",
       "    <tr>\n",
       "      <th>63102</th>\n",
       "      <td>Global</td>\n",
       "      <td>WLD</td>\n",
       "      <td>2020</td>\n",
       "      <td>35264.085734</td>\n",
       "      <td>14174.564010</td>\n",
       "      <td>11191.808551</td>\n",
       "      <td>7556.290283</td>\n",
       "      <td>1637.537532</td>\n",
       "      <td>407.583673</td>\n",
       "      <td>4.497423</td>\n",
       "    </tr>\n",
       "    <tr>\n",
       "      <th>63103</th>\n",
       "      <td>Global</td>\n",
       "      <td>WLD</td>\n",
       "      <td>2021</td>\n",
       "      <td>37123.850352</td>\n",
       "      <td>14979.598083</td>\n",
       "      <td>11837.159116</td>\n",
       "      <td>7921.829472</td>\n",
       "      <td>1672.592372</td>\n",
       "      <td>416.525563</td>\n",
       "      <td>4.693699</td>\n",
       "    </tr>\n",
       "  </tbody>\n",
       "</table>\n",
       "<p>63104 rows × 10 columns</p>\n",
       "</div>"
      ],
      "text/plain": [
       "           Country ISO 3166-1 alpha-3  Year         Total          Coal  \\\n",
       "0      Afghanistan                AFG  1750      0.000000           NaN   \n",
       "1      Afghanistan                AFG  1751      0.000000           NaN   \n",
       "2      Afghanistan                AFG  1752      0.000000           NaN   \n",
       "3      Afghanistan                AFG  1753      0.000000           NaN   \n",
       "4      Afghanistan                AFG  1754      0.000000           NaN   \n",
       "...            ...                ...   ...           ...           ...   \n",
       "63099       Global                WLD  2017  36096.739276  14506.973805   \n",
       "63100       Global                WLD  2018  36826.506600  14746.830688   \n",
       "63101       Global                WLD  2019  37082.558969  14725.978025   \n",
       "63102       Global                WLD  2020  35264.085734  14174.564010   \n",
       "63103       Global                WLD  2021  37123.850352  14979.598083   \n",
       "\n",
       "                Oil          Gas       Cement     Flaring  Per Capita  \n",
       "0               NaN          NaN          NaN         NaN         NaN  \n",
       "1               NaN          NaN          NaN         NaN         NaN  \n",
       "2               NaN          NaN          NaN         NaN         NaN  \n",
       "3               NaN          NaN          NaN         NaN         NaN  \n",
       "4               NaN          NaN          NaN         NaN         NaN  \n",
       "...             ...          ...          ...         ...         ...  \n",
       "63099  12242.627935  7144.928128  1507.923185  391.992176    4.749682  \n",
       "63100  12266.016285  7529.846784  1569.218392  412.115746    4.792753  \n",
       "63101  12345.653374  7647.528220  1617.506786  439.253991    4.775633  \n",
       "63102  11191.808551  7556.290283  1637.537532  407.583673    4.497423  \n",
       "63103  11837.159116  7921.829472  1672.592372  416.525563    4.693699  \n",
       "\n",
       "[63104 rows x 10 columns]"
      ]
     },
     "execution_count": 4,
     "metadata": {},
     "output_type": "execute_result"
    }
   ],
   "source": [
    "# Since \"Other\" column has a lot of missing values, exclude \"Other\" column and delete\n",
    "\n",
    "del emissions_data['Other']\n",
    "emissions_data"
   ]
  },
  {
   "cell_type": "code",
   "execution_count": 5,
   "metadata": {},
   "outputs": [
    {
     "data": {
      "text/html": [
       "<div>\n",
       "<style scoped>\n",
       "    .dataframe tbody tr th:only-of-type {\n",
       "        vertical-align: middle;\n",
       "    }\n",
       "\n",
       "    .dataframe tbody tr th {\n",
       "        vertical-align: top;\n",
       "    }\n",
       "\n",
       "    .dataframe thead th {\n",
       "        text-align: right;\n",
       "    }\n",
       "</style>\n",
       "<table border=\"1\" class=\"dataframe\">\n",
       "  <thead>\n",
       "    <tr style=\"text-align: right;\">\n",
       "      <th></th>\n",
       "      <th>Country</th>\n",
       "      <th>ISO 3166-1 alpha-3</th>\n",
       "      <th>Year</th>\n",
       "      <th>Total</th>\n",
       "      <th>Coal</th>\n",
       "      <th>Oil</th>\n",
       "      <th>Gas</th>\n",
       "      <th>Cement</th>\n",
       "      <th>Flaring</th>\n",
       "      <th>Per Capita</th>\n",
       "    </tr>\n",
       "  </thead>\n",
       "  <tbody>\n",
       "    <tr>\n",
       "      <th>0</th>\n",
       "      <td>Afghanistan</td>\n",
       "      <td>AFG</td>\n",
       "      <td>1750</td>\n",
       "      <td>NaN</td>\n",
       "      <td>NaN</td>\n",
       "      <td>NaN</td>\n",
       "      <td>NaN</td>\n",
       "      <td>NaN</td>\n",
       "      <td>NaN</td>\n",
       "      <td>NaN</td>\n",
       "    </tr>\n",
       "    <tr>\n",
       "      <th>1</th>\n",
       "      <td>Afghanistan</td>\n",
       "      <td>AFG</td>\n",
       "      <td>1751</td>\n",
       "      <td>NaN</td>\n",
       "      <td>NaN</td>\n",
       "      <td>NaN</td>\n",
       "      <td>NaN</td>\n",
       "      <td>NaN</td>\n",
       "      <td>NaN</td>\n",
       "      <td>NaN</td>\n",
       "    </tr>\n",
       "    <tr>\n",
       "      <th>2</th>\n",
       "      <td>Afghanistan</td>\n",
       "      <td>AFG</td>\n",
       "      <td>1752</td>\n",
       "      <td>NaN</td>\n",
       "      <td>NaN</td>\n",
       "      <td>NaN</td>\n",
       "      <td>NaN</td>\n",
       "      <td>NaN</td>\n",
       "      <td>NaN</td>\n",
       "      <td>NaN</td>\n",
       "    </tr>\n",
       "    <tr>\n",
       "      <th>3</th>\n",
       "      <td>Afghanistan</td>\n",
       "      <td>AFG</td>\n",
       "      <td>1753</td>\n",
       "      <td>NaN</td>\n",
       "      <td>NaN</td>\n",
       "      <td>NaN</td>\n",
       "      <td>NaN</td>\n",
       "      <td>NaN</td>\n",
       "      <td>NaN</td>\n",
       "      <td>NaN</td>\n",
       "    </tr>\n",
       "    <tr>\n",
       "      <th>4</th>\n",
       "      <td>Afghanistan</td>\n",
       "      <td>AFG</td>\n",
       "      <td>1754</td>\n",
       "      <td>NaN</td>\n",
       "      <td>NaN</td>\n",
       "      <td>NaN</td>\n",
       "      <td>NaN</td>\n",
       "      <td>NaN</td>\n",
       "      <td>NaN</td>\n",
       "      <td>NaN</td>\n",
       "    </tr>\n",
       "    <tr>\n",
       "      <th>...</th>\n",
       "      <td>...</td>\n",
       "      <td>...</td>\n",
       "      <td>...</td>\n",
       "      <td>...</td>\n",
       "      <td>...</td>\n",
       "      <td>...</td>\n",
       "      <td>...</td>\n",
       "      <td>...</td>\n",
       "      <td>...</td>\n",
       "      <td>...</td>\n",
       "    </tr>\n",
       "    <tr>\n",
       "      <th>63099</th>\n",
       "      <td>Global</td>\n",
       "      <td>WLD</td>\n",
       "      <td>2017</td>\n",
       "      <td>36096.739276</td>\n",
       "      <td>14506.973805</td>\n",
       "      <td>12242.627935</td>\n",
       "      <td>7144.928128</td>\n",
       "      <td>1507.923185</td>\n",
       "      <td>391.992176</td>\n",
       "      <td>4.749682</td>\n",
       "    </tr>\n",
       "    <tr>\n",
       "      <th>63100</th>\n",
       "      <td>Global</td>\n",
       "      <td>WLD</td>\n",
       "      <td>2018</td>\n",
       "      <td>36826.506600</td>\n",
       "      <td>14746.830688</td>\n",
       "      <td>12266.016285</td>\n",
       "      <td>7529.846784</td>\n",
       "      <td>1569.218392</td>\n",
       "      <td>412.115746</td>\n",
       "      <td>4.792753</td>\n",
       "    </tr>\n",
       "    <tr>\n",
       "      <th>63101</th>\n",
       "      <td>Global</td>\n",
       "      <td>WLD</td>\n",
       "      <td>2019</td>\n",
       "      <td>37082.558969</td>\n",
       "      <td>14725.978025</td>\n",
       "      <td>12345.653374</td>\n",
       "      <td>7647.528220</td>\n",
       "      <td>1617.506786</td>\n",
       "      <td>439.253991</td>\n",
       "      <td>4.775633</td>\n",
       "    </tr>\n",
       "    <tr>\n",
       "      <th>63102</th>\n",
       "      <td>Global</td>\n",
       "      <td>WLD</td>\n",
       "      <td>2020</td>\n",
       "      <td>35264.085734</td>\n",
       "      <td>14174.564010</td>\n",
       "      <td>11191.808551</td>\n",
       "      <td>7556.290283</td>\n",
       "      <td>1637.537532</td>\n",
       "      <td>407.583673</td>\n",
       "      <td>4.497423</td>\n",
       "    </tr>\n",
       "    <tr>\n",
       "      <th>63103</th>\n",
       "      <td>Global</td>\n",
       "      <td>WLD</td>\n",
       "      <td>2021</td>\n",
       "      <td>37123.850352</td>\n",
       "      <td>14979.598083</td>\n",
       "      <td>11837.159116</td>\n",
       "      <td>7921.829472</td>\n",
       "      <td>1672.592372</td>\n",
       "      <td>416.525563</td>\n",
       "      <td>4.693699</td>\n",
       "    </tr>\n",
       "  </tbody>\n",
       "</table>\n",
       "<p>63104 rows × 10 columns</p>\n",
       "</div>"
      ],
      "text/plain": [
       "           Country ISO 3166-1 alpha-3  Year         Total          Coal  \\\n",
       "0      Afghanistan                AFG  1750           NaN           NaN   \n",
       "1      Afghanistan                AFG  1751           NaN           NaN   \n",
       "2      Afghanistan                AFG  1752           NaN           NaN   \n",
       "3      Afghanistan                AFG  1753           NaN           NaN   \n",
       "4      Afghanistan                AFG  1754           NaN           NaN   \n",
       "...            ...                ...   ...           ...           ...   \n",
       "63099       Global                WLD  2017  36096.739276  14506.973805   \n",
       "63100       Global                WLD  2018  36826.506600  14746.830688   \n",
       "63101       Global                WLD  2019  37082.558969  14725.978025   \n",
       "63102       Global                WLD  2020  35264.085734  14174.564010   \n",
       "63103       Global                WLD  2021  37123.850352  14979.598083   \n",
       "\n",
       "                Oil          Gas       Cement     Flaring  Per Capita  \n",
       "0               NaN          NaN          NaN         NaN         NaN  \n",
       "1               NaN          NaN          NaN         NaN         NaN  \n",
       "2               NaN          NaN          NaN         NaN         NaN  \n",
       "3               NaN          NaN          NaN         NaN         NaN  \n",
       "4               NaN          NaN          NaN         NaN         NaN  \n",
       "...             ...          ...          ...         ...         ...  \n",
       "63099  12242.627935  7144.928128  1507.923185  391.992176    4.749682  \n",
       "63100  12266.016285  7529.846784  1569.218392  412.115746    4.792753  \n",
       "63101  12345.653374  7647.528220  1617.506786  439.253991    4.775633  \n",
       "63102  11191.808551  7556.290283  1637.537532  407.583673    4.497423  \n",
       "63103  11837.159116  7921.829472  1672.592372  416.525563    4.693699  \n",
       "\n",
       "[63104 rows x 10 columns]"
      ]
     },
     "execution_count": 5,
     "metadata": {},
     "output_type": "execute_result"
    }
   ],
   "source": [
    "# Replace the cells with \"0\" value with \"NaN\"\n",
    "\n",
    "emissions_data = emissions_data.replace(0, np.nan)\n",
    "emissions_data"
   ]
  },
  {
   "cell_type": "code",
   "execution_count": 6,
   "metadata": {
    "scrolled": true
   },
   "outputs": [
    {
     "data": {
      "text/html": [
       "<div>\n",
       "<style scoped>\n",
       "    .dataframe tbody tr th:only-of-type {\n",
       "        vertical-align: middle;\n",
       "    }\n",
       "\n",
       "    .dataframe tbody tr th {\n",
       "        vertical-align: top;\n",
       "    }\n",
       "\n",
       "    .dataframe thead th {\n",
       "        text-align: right;\n",
       "    }\n",
       "</style>\n",
       "<table border=\"1\" class=\"dataframe\">\n",
       "  <thead>\n",
       "    <tr style=\"text-align: right;\">\n",
       "      <th></th>\n",
       "      <th>Country</th>\n",
       "      <th>ISO 3166-1 alpha-3</th>\n",
       "      <th>Year</th>\n",
       "      <th>Total</th>\n",
       "      <th>Coal</th>\n",
       "      <th>Oil</th>\n",
       "      <th>Gas</th>\n",
       "      <th>Cement</th>\n",
       "      <th>Flaring</th>\n",
       "      <th>Per Capita</th>\n",
       "    </tr>\n",
       "  </thead>\n",
       "  <tbody>\n",
       "    <tr>\n",
       "      <th>220</th>\n",
       "      <td>Afghanistan</td>\n",
       "      <td>AFG</td>\n",
       "      <td>1970</td>\n",
       "      <td>1.670397</td>\n",
       "      <td>0.436974</td>\n",
       "      <td>0.671986</td>\n",
       "      <td>0.216651</td>\n",
       "      <td>0.047350</td>\n",
       "      <td>0.297436</td>\n",
       "      <td>0.155343</td>\n",
       "    </tr>\n",
       "    <tr>\n",
       "      <th>221</th>\n",
       "      <td>Afghanistan</td>\n",
       "      <td>AFG</td>\n",
       "      <td>1971</td>\n",
       "      <td>1.893554</td>\n",
       "      <td>0.359072</td>\n",
       "      <td>0.747456</td>\n",
       "      <td>0.439680</td>\n",
       "      <td>0.043234</td>\n",
       "      <td>0.304112</td>\n",
       "      <td>0.171893</td>\n",
       "    </tr>\n",
       "    <tr>\n",
       "      <th>222</th>\n",
       "      <td>Afghanistan</td>\n",
       "      <td>AFG</td>\n",
       "      <td>1972</td>\n",
       "      <td>1.530347</td>\n",
       "      <td>0.190528</td>\n",
       "      <td>0.626544</td>\n",
       "      <td>0.300448</td>\n",
       "      <td>0.046427</td>\n",
       "      <td>0.366400</td>\n",
       "      <td>0.135588</td>\n",
       "    </tr>\n",
       "    <tr>\n",
       "      <th>223</th>\n",
       "      <td>Afghanistan</td>\n",
       "      <td>AFG</td>\n",
       "      <td>1973</td>\n",
       "      <td>1.635454</td>\n",
       "      <td>0.310745</td>\n",
       "      <td>0.701918</td>\n",
       "      <td>0.332680</td>\n",
       "      <td>0.067106</td>\n",
       "      <td>0.223005</td>\n",
       "      <td>0.141288</td>\n",
       "    </tr>\n",
       "    <tr>\n",
       "      <th>224</th>\n",
       "      <td>Afghanistan</td>\n",
       "      <td>AFG</td>\n",
       "      <td>1974</td>\n",
       "      <td>1.913152</td>\n",
       "      <td>0.304695</td>\n",
       "      <td>0.770914</td>\n",
       "      <td>0.400141</td>\n",
       "      <td>0.070301</td>\n",
       "      <td>0.367102</td>\n",
       "      <td>0.161177</td>\n",
       "    </tr>\n",
       "    <tr>\n",
       "      <th>...</th>\n",
       "      <td>...</td>\n",
       "      <td>...</td>\n",
       "      <td>...</td>\n",
       "      <td>...</td>\n",
       "      <td>...</td>\n",
       "      <td>...</td>\n",
       "      <td>...</td>\n",
       "      <td>...</td>\n",
       "      <td>...</td>\n",
       "      <td>...</td>\n",
       "    </tr>\n",
       "    <tr>\n",
       "      <th>63099</th>\n",
       "      <td>Global</td>\n",
       "      <td>WLD</td>\n",
       "      <td>2017</td>\n",
       "      <td>36096.739276</td>\n",
       "      <td>14506.973805</td>\n",
       "      <td>12242.627935</td>\n",
       "      <td>7144.928128</td>\n",
       "      <td>1507.923185</td>\n",
       "      <td>391.992176</td>\n",
       "      <td>4.749682</td>\n",
       "    </tr>\n",
       "    <tr>\n",
       "      <th>63100</th>\n",
       "      <td>Global</td>\n",
       "      <td>WLD</td>\n",
       "      <td>2018</td>\n",
       "      <td>36826.506600</td>\n",
       "      <td>14746.830688</td>\n",
       "      <td>12266.016285</td>\n",
       "      <td>7529.846784</td>\n",
       "      <td>1569.218392</td>\n",
       "      <td>412.115746</td>\n",
       "      <td>4.792753</td>\n",
       "    </tr>\n",
       "    <tr>\n",
       "      <th>63101</th>\n",
       "      <td>Global</td>\n",
       "      <td>WLD</td>\n",
       "      <td>2019</td>\n",
       "      <td>37082.558969</td>\n",
       "      <td>14725.978025</td>\n",
       "      <td>12345.653374</td>\n",
       "      <td>7647.528220</td>\n",
       "      <td>1617.506786</td>\n",
       "      <td>439.253991</td>\n",
       "      <td>4.775633</td>\n",
       "    </tr>\n",
       "    <tr>\n",
       "      <th>63102</th>\n",
       "      <td>Global</td>\n",
       "      <td>WLD</td>\n",
       "      <td>2020</td>\n",
       "      <td>35264.085734</td>\n",
       "      <td>14174.564010</td>\n",
       "      <td>11191.808551</td>\n",
       "      <td>7556.290283</td>\n",
       "      <td>1637.537532</td>\n",
       "      <td>407.583673</td>\n",
       "      <td>4.497423</td>\n",
       "    </tr>\n",
       "    <tr>\n",
       "      <th>63103</th>\n",
       "      <td>Global</td>\n",
       "      <td>WLD</td>\n",
       "      <td>2021</td>\n",
       "      <td>37123.850352</td>\n",
       "      <td>14979.598083</td>\n",
       "      <td>11837.159116</td>\n",
       "      <td>7921.829472</td>\n",
       "      <td>1672.592372</td>\n",
       "      <td>416.525563</td>\n",
       "      <td>4.693699</td>\n",
       "    </tr>\n",
       "  </tbody>\n",
       "</table>\n",
       "<p>3158 rows × 10 columns</p>\n",
       "</div>"
      ],
      "text/plain": [
       "           Country ISO 3166-1 alpha-3  Year         Total          Coal  \\\n",
       "220    Afghanistan                AFG  1970      1.670397      0.436974   \n",
       "221    Afghanistan                AFG  1971      1.893554      0.359072   \n",
       "222    Afghanistan                AFG  1972      1.530347      0.190528   \n",
       "223    Afghanistan                AFG  1973      1.635454      0.310745   \n",
       "224    Afghanistan                AFG  1974      1.913152      0.304695   \n",
       "...            ...                ...   ...           ...           ...   \n",
       "63099       Global                WLD  2017  36096.739276  14506.973805   \n",
       "63100       Global                WLD  2018  36826.506600  14746.830688   \n",
       "63101       Global                WLD  2019  37082.558969  14725.978025   \n",
       "63102       Global                WLD  2020  35264.085734  14174.564010   \n",
       "63103       Global                WLD  2021  37123.850352  14979.598083   \n",
       "\n",
       "                Oil          Gas       Cement     Flaring  Per Capita  \n",
       "220        0.671986     0.216651     0.047350    0.297436    0.155343  \n",
       "221        0.747456     0.439680     0.043234    0.304112    0.171893  \n",
       "222        0.626544     0.300448     0.046427    0.366400    0.135588  \n",
       "223        0.701918     0.332680     0.067106    0.223005    0.141288  \n",
       "224        0.770914     0.400141     0.070301    0.367102    0.161177  \n",
       "...             ...          ...          ...         ...         ...  \n",
       "63099  12242.627935  7144.928128  1507.923185  391.992176    4.749682  \n",
       "63100  12266.016285  7529.846784  1569.218392  412.115746    4.792753  \n",
       "63101  12345.653374  7647.528220  1617.506786  439.253991    4.775633  \n",
       "63102  11191.808551  7556.290283  1637.537532  407.583673    4.497423  \n",
       "63103  11837.159116  7921.829472  1672.592372  416.525563    4.693699  \n",
       "\n",
       "[3158 rows x 10 columns]"
      ]
     },
     "execution_count": 6,
     "metadata": {},
     "output_type": "execute_result"
    }
   ],
   "source": [
    "# Delete rows with \"NaN\" values\n",
    "\n",
    "cleaned_emissions_df = emissions_data.dropna(how=\"any\")\n",
    "cleaned_emissions_df"
   ]
  },
  {
   "cell_type": "code",
   "execution_count": 7,
   "metadata": {},
   "outputs": [
    {
     "data": {
      "text/plain": [
       "2021"
      ]
     },
     "execution_count": 7,
     "metadata": {},
     "output_type": "execute_result"
    }
   ],
   "source": [
    "# Get the latest year\n",
    "\n",
    "latest_year = cleaned_emissions_df['Year'].max()\n",
    "latest_year"
   ]
  },
  {
   "cell_type": "code",
   "execution_count": 8,
   "metadata": {},
   "outputs": [
    {
     "data": {
      "text/plain": [
       "1950"
      ]
     },
     "execution_count": 8,
     "metadata": {},
     "output_type": "execute_result"
    }
   ],
   "source": [
    "# Get the earliest year\n",
    "\n",
    "earliest_year = cleaned_emissions_df['Year'].min()\n",
    "earliest_year"
   ]
  },
  {
   "cell_type": "code",
   "execution_count": 9,
   "metadata": {},
   "outputs": [
    {
     "name": "stdout",
     "output_type": "stream",
     "text": [
      "Total number of contries: 90\n"
     ]
    }
   ],
   "source": [
    "# Count the number of countries in the dataset\n",
    "\n",
    "count = cleaned_emissions_df['Country'].unique().size\n",
    "print(\"Total number of contries: \"+ str(count))"
   ]
  },
  {
   "cell_type": "code",
   "execution_count": 10,
   "metadata": {},
   "outputs": [
    {
     "name": "stdout",
     "output_type": "stream",
     "text": [
      "['Afghanistan' 'Albania' 'Algeria' 'Angola' 'Argentina' 'Armenia'\n",
      " 'Australia' 'Austria' 'Azerbaijan' 'Bangladesh' 'Belarus' 'Belgium'\n",
      " 'Bosnia and Herzegovina' 'Brazil' 'Bulgaria' 'Canada' 'Chile' 'China'\n",
      " 'Colombia' 'Croatia' 'Cuba' 'Czech Republic' 'Denmark' 'Egypt' 'Estonia'\n",
      " 'Finland' 'France' 'Georgia' 'Germany' 'Greece' 'Hungary' 'Iceland'\n",
      " 'India' 'Indonesia' 'Iraq' 'Ireland' 'Iran' 'Israel' 'Italy' 'Japan'\n",
      " 'Jordan' 'Kazakhstan' 'Kyrgyzstan' 'Latvia' 'Libya' 'Lithuania'\n",
      " 'Luxembourg' 'Malaysia' 'Mexico' 'Mozambique' 'Myanmar' 'Netherlands'\n",
      " 'New Zealand' 'Nigeria' 'Norway' 'Pakistan' 'Peru' 'Philippines'\n",
      " 'Bolivia' 'Poland' 'Portugal' 'South Korea' 'Moldova' 'Romania' 'Russia'\n",
      " 'Senegal' 'Serbia' 'Slovakia' 'Slovenia' 'South Africa' 'Spain' 'Sweden'\n",
      " 'Switzerland' 'Syria' 'Taiwan' 'Tajikistan' 'Thailand' 'Tunisia' 'Turkey'\n",
      " 'Turkmenistan' 'Ukraine' 'United Arab Emirates' 'United Kingdom'\n",
      " 'Tanzania' 'USA' 'Uzbekistan' 'Venezuela' 'Viet Nam' 'Yemen' 'Global']\n"
     ]
    }
   ],
   "source": [
    "# Display the countries in the dataset\n",
    "\n",
    "print(cleaned_emissions_df['Country'].unique())\n"
   ]
  },
  {
   "cell_type": "code",
   "execution_count": 11,
   "metadata": {},
   "outputs": [],
   "source": [
    "# Save as a new csv file\n",
    "\n",
    "file_path = Path('Resources/cleaned_emissions_data.csv')\n",
    "cleaned_emissions_df.to_csv(file_path, index=False)"
   ]
  },
  {
   "cell_type": "markdown",
   "metadata": {},
   "source": [
    "##  Visualisations"
   ]
  },
  {
   "cell_type": "code",
   "execution_count": null,
   "metadata": {},
   "outputs": [],
   "source": [
    "# Display the columns of the dataset\n",
    "\n",
    "# cleaned_emissions_df.columns"
   ]
  },
  {
   "cell_type": "code",
   "execution_count": 12,
   "metadata": {},
   "outputs": [
    {
     "data": {
      "text/plain": [
       "Text(0.5, 1.0, 'Total Emissions for Each Country (1950-2021)')"
      ]
     },
     "execution_count": 12,
     "metadata": {},
     "output_type": "execute_result"
    },
    {
     "data": {
      "image/png": "[encoded data removed]",
      "text/plain": [
       "<Figure size 1440x360 with 1 Axes>"
      ]
     },
     "metadata": {
      "needs_background": "light"
     },
     "output_type": "display_data"
    }
   ],
   "source": [
    "# Plot the total emissions for each country over the time\n",
    "\n",
    "countries = list(cleaned_emissions_df.groupby('Country').sum().sort_values(by='Total', ascending=False).index)\n",
    "total_values = list(cleaned_emissions_df.groupby('Country').sum().sort_values(by='Total', ascending=False)['Total'])\n",
    "# countries\n",
    "# total_values\n",
    "\n",
    "fig1 = plt.figure(figsize=(20,5),)\n",
    "plt.bar(countries, total_values, color ='blue',)\n",
    "plt.xlabel(\"Country\")\n",
    "plt.xticks(rotation=90)\n",
    "plt.ylabel(\"Total Emissions\")\n",
    "plt.title(\"Total Emissions for Each Country (1950-2021)\")\n"
   ]
  },
  {
   "cell_type": "code",
   "execution_count": null,
   "metadata": {},
   "outputs": [],
   "source": [
    "# Create a dataframe of the total emissions of each country over time using a dictionary\n",
    "\n",
    "# total_emissions_dict = {'Country':countries,'Total Emissions':total_values}\n",
    "# total_emissions_df = pd.DataFrame(total_emissions_dict)\n",
    "# total_emissions_df\n",
    "  "
   ]
  },
  {
   "cell_type": "code",
   "execution_count": 13,
   "metadata": {},
   "outputs": [
    {
     "data": {
      "text/plain": [
       "Text(0.5, 1.0, 'Top 15 Coutries for Total Emissions from Coal (1950-2021)')"
      ]
     },
     "execution_count": 13,
     "metadata": {},
     "output_type": "execute_result"
    },
    {
     "data": {
      "image/png": "[encoded data removed]",
      "text/plain": [
       "<Figure size 1080x360 with 1 Axes>"
      ]
     },
     "metadata": {
      "needs_background": "light"
     },
     "output_type": "display_data"
    }
   ],
   "source": [
    "# Plot the top 15 coutries for total coal emissions over time\n",
    "\n",
    "coal_values = list(cleaned_emissions_df.groupby('Country').sum().sort_values(by='Coal',ascending=False)['Coal'])\n",
    "\n",
    "fig2 = plt.figure(figsize=(15,5),)\n",
    "plt.bar(countries[:15], coal_values[:15], color ='maroon')\n",
    "plt.xlabel(\"Country\")\n",
    "plt.xticks(rotation=90)\n",
    "plt.ylabel(\"Total Coal Emissions\")\n",
    "plt.title(\"Top 15 Coutries for Total Emissions from Coal (1950-2021)\")\n"
   ]
  },
  {
   "cell_type": "code",
   "execution_count": 14,
   "metadata": {},
   "outputs": [
    {
     "data": {
      "text/plain": [
       "Text(0.5, 1.0, 'Top 15 Coutries for Total Emissions from Oil (1950-2021)')"
      ]
     },
     "execution_count": 14,
     "metadata": {},
     "output_type": "execute_result"
    },
    {
     "data": {
      "image/png": "[encoded data removed]",
      "text/plain": [
       "<Figure size 1080x360 with 1 Axes>"
      ]
     },
     "metadata": {
      "needs_background": "light"
     },
     "output_type": "display_data"
    }
   ],
   "source": [
    "# Plot the top 15 coutries for total oil emissions over time\n",
    "\n",
    "oil_values = list(cleaned_emissions_df.groupby('Country').sum().sort_values(by='Oil',ascending=False)['Oil'])\n",
    "\n",
    "fig3 = plt.figure(figsize=(15,5),)\n",
    "plt.bar(countries[:15], oil_values[:15], color ='orange')\n",
    "plt.xlabel(\"Country\")\n",
    "plt.xticks(rotation=90)\n",
    "plt.ylabel(\"Total Oil Emissions\")\n",
    "plt.title(\"Top 15 Coutries for Total Emissions from Oil (1950-2021)\")\n"
   ]
  },
  {
   "cell_type": "code",
   "execution_count": 15,
   "metadata": {},
   "outputs": [
    {
     "data": {
      "text/plain": [
       "Text(0.5, 1.0, 'Top 15 Coutries for Total Emissions from Gas (1950-2021)')"
      ]
     },
     "execution_count": 15,
     "metadata": {},
     "output_type": "execute_result"
    },
    {
     "data": {
      "image/png": "[encoded data removed]",
      "text/plain": [
       "<Figure size 1080x360 with 1 Axes>"
      ]
     },
     "metadata": {
      "needs_background": "light"
     },
     "output_type": "display_data"
    }
   ],
   "source": [
    "# Plot the top 15 coutries for total gas emissions over time\n",
    "\n",
    "gas_values = list(cleaned_emissions_df.groupby('Country').sum().sort_values(by='Gas',ascending=False)['Gas'])\n",
    "\n",
    "fig4 = plt.figure(figsize=(15,5),)\n",
    "plt.bar(countries[:15], gas_values[:15], color ='green')\n",
    "plt.xlabel(\"Country\")\n",
    "plt.xticks(rotation=90)\n",
    "plt.ylabel(\"Total Gas Emissions\")\n",
    "plt.title(\"Top 15 Coutries for Total Emissions from Gas (1950-2021)\")\n"
   ]
  },
  {
   "cell_type": "code",
   "execution_count": 16,
   "metadata": {},
   "outputs": [
    {
     "data": {
      "text/plain": [
       "Text(0.5, 1.0, 'Top 15 Coutries for Total Emissions from Cement (1950-2021)')"
      ]
     },
     "execution_count": 16,
     "metadata": {},
     "output_type": "execute_result"
    },
    {
     "data": {
      "image/png": "[encoded data removed]",
      "text/plain": [
       "<Figure size 1080x360 with 1 Axes>"
      ]
     },
     "metadata": {
      "needs_background": "light"
     },
     "output_type": "display_data"
    }
   ],
   "source": [
    "# Plot the top 15 coutries for total cement emissions over time\n",
    "\n",
    "cement_values = list(cleaned_emissions_df.groupby('Country').sum().sort_values(by='Cement',ascending=False)['Cement'])\n",
    "\n",
    "fig5 = plt.figure(figsize=(15,5),)\n",
    "plt.bar(countries[:15], cement_values[:15], color ='violet')\n",
    "plt.xlabel(\"Country\")\n",
    "plt.xticks(rotation=90)\n",
    "plt.ylabel(\"Total Cement Emissions\")\n",
    "plt.title(\"Top 15 Coutries for Total Emissions from Cement (1950-2021)\")"
   ]
  },
  {
   "cell_type": "code",
   "execution_count": 17,
   "metadata": {},
   "outputs": [
    {
     "data": {
      "text/plain": [
       "Text(0.5, 1.0, 'Top 15 Coutries for Total Emissions from Flaring (1950-2021)')"
      ]
     },
     "execution_count": 17,
     "metadata": {},
     "output_type": "execute_result"
    },
    {
     "data": {
      "image/png": "[encoded data removed]",
      "text/plain": [
       "<Figure size 1080x360 with 1 Axes>"
      ]
     },
     "metadata": {
      "needs_background": "light"
     },
     "output_type": "display_data"
    }
   ],
   "source": [
    "# Plot the top 15 coutries for total flaring emissions over time\n",
    "\n",
    "flaring_values = list(cleaned_emissions_df.groupby('Country').sum().sort_values(by='Flaring',ascending=False)['Flaring'])\n",
    "\n",
    "fig6 = plt.figure(figsize=(15,5),)\n",
    "plt.bar(countries[:15], flaring_values[:15], color ='purple')\n",
    "plt.xlabel(\"Country\")\n",
    "plt.xticks(rotation=90)\n",
    "plt.ylabel(\"Total Flaring Emissions\")\n",
    "plt.title(\"Top 15 Coutries for Total Emissions from Flaring (1950-2021)\")"
   ]
  },
  {
   "cell_type": "code",
   "execution_count": 18,
   "metadata": {},
   "outputs": [],
   "source": [
    "# Mean emission source category for each country\n",
    "\n",
    "Coal_mean = cleaned_emissions_df.groupby(['ISO 3166-1 alpha-3','Country'])['Coal'].mean().sort_values(ascending=False)[0:90].reset_index()\n",
    "\n",
    "Oil_mean = cleaned_emissions_df.groupby(['ISO 3166-1 alpha-3','Country'])['Oil'].mean().sort_values(ascending=False)[0:90].reset_index()\n",
    "\n",
    "Gas_mean = cleaned_emissions_df.groupby(['ISO 3166-1 alpha-3','Country'])['Gas'].mean().sort_values(ascending=False)[0:90].reset_index()\n",
    "\n",
    "Cement_mean = cleaned_emissions_df.groupby(['ISO 3166-1 alpha-3','Country'])['Cement'].mean().sort_values(ascending=False)[0:90].reset_index()\n",
    "\n",
    "Flaring_mean = cleaned_emissions_df.groupby(['ISO 3166-1 alpha-3','Country'])['Flaring'].mean().sort_values(ascending=False)[0:90].reset_index()\n",
    "\n",
    "# Total_mean = cleaned_emissions_df.groupby(['ISO 3166-1 alpha-3','Country'])['Total'].mean().sort_values(ascending=False)[0:90].reset_index()\n"
   ]
  },
  {
   "cell_type": "code",
   "execution_count": null,
   "metadata": {},
   "outputs": [],
   "source": [
    "# Plot the mean coal amissions for each country\n",
    "\n",
    "import plotly.express as px\n",
    "from plotly.subplots import make_subplots\n",
    "import plotly.graph_objects as go\n",
    "\n",
    "def chlorepath(data,color):\n",
    "    fig=px.choropleth(data, locations=\"ISO 3166-1 alpha-3\",\n",
    "                    color= color, \n",
    "                    hover_name=\"Country\",\n",
    "                    color_continuous_scale=px.colors.sequential.Plasma)\n",
    "\n",
    "fig7=chlorepath(Coal_mean,'Coal')\n"
   ]
  },
  {
   "cell_type": "code",
   "execution_count": null,
   "metadata": {},
   "outputs": [],
   "source": [
    "# Plot the mean oil amissions for each country\n",
    "\n",
    "fig8=chlorepath(Oil_mean,'Oil')\n"
   ]
  },
  {
   "cell_type": "code",
   "execution_count": null,
   "metadata": {},
   "outputs": [],
   "source": [
    "# Plot the mean gas amissions for each country\n",
    "\n",
    "fig9=chlorepath(Gas_mean,'Gas')\n"
   ]
  },
  {
   "cell_type": "code",
   "execution_count": null,
   "metadata": {},
   "outputs": [],
   "source": [
    "# Plot the mean Cement amissions for each country\n",
    "\n",
    "fig10=chlorepath(Cement_mean,'Cement')\n"
   ]
  },
  {
   "cell_type": "code",
   "execution_count": null,
   "metadata": {},
   "outputs": [],
   "source": [
    "# Plot the mean flaring amissions for each country\n",
    "\n",
    "fig11=chlorepath(Flaring_mean,'Flaring')\n"
   ]
  },
  {
   "cell_type": "code",
   "execution_count": null,
   "metadata": {},
   "outputs": [],
   "source": []
  }
 ],
 "metadata": {
  "kernelspec": {
   "display_name": "Python [conda env:PythonData] *",
   "language": "python",
   "name": "conda-env-PythonData-py"
  },
  "language_info": {
   "codemirror_mode": {
    "name": "ipython",
    "version": 3
   },
   "file_extension": ".py",
   "mimetype": "text/x-python",
   "name": "python",
   "nbconvert_exporter": "python",
   "pygments_lexer": "ipython3",
   "version": "3.6.10"
  }
 },
 "nbformat": 4,
 "nbformat_minor": 4
}
